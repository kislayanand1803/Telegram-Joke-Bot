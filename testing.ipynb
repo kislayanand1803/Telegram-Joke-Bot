{
 "cells": [
  {
   "cell_type": "code",
   "execution_count": 25,
   "id": "9e82bca0",
   "metadata": {},
   "outputs": [
    {
     "data": {
      "text/plain": [
       "True"
      ]
     },
     "execution_count": 25,
     "metadata": {},
     "output_type": "execute_result"
    }
   ],
   "source": [
    "import os #operating system\n",
    "from dotenv import load_dotenv #environment variables\n",
    "load_dotenv() #load environment variables from .env file"
   ]
  },
  {
   "cell_type": "code",
   "execution_count": 26,
   "id": "ac1294e5",
   "metadata": {},
   "outputs": [],
   "source": [
    "langchain_api_key = os.getenv(\"LANGCHAIN_API_KEY\")\n",
    "groq_api_key = os.getenv(\"GROQ_API_KEY\")"
   ]
  },
  {
   "cell_type": "code",
   "execution_count": 27,
   "id": "836b7a17",
   "metadata": {},
   "outputs": [
    {
     "name": "stdout",
     "output_type": "stream",
     "text": [
      "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\n",
      "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\n"
     ]
    }
   ],
   "source": [
    "print(langchain_api_key)\n",
    "print(groq_api_key)"
   ]
  },
  {
   "cell_type": "code",
   "execution_count": 28,
   "id": "9bfb7d19",
   "metadata": {},
   "outputs": [],
   "source": [
    "from langchain_groq import ChatGroq"
   ]
  },
  {
   "cell_type": "code",
   "execution_count": 29,
   "id": "91add2dd",
   "metadata": {},
   "outputs": [],
   "source": [
    "model = ChatGroq(model =\"Gemma2-9b-It\", groq_api_key = \"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\")"
   ]
  },
  {
   "cell_type": "code",
   "execution_count": 10,
   "id": "9843ad67",
   "metadata": {},
   "outputs": [
    {
     "data": {
      "text/plain": [
       "ChatGroq(client=<groq.resources.chat.completions.Completions object at 0x000001B4693B1BD0>, async_client=<groq.resources.chat.completions.AsyncCompletions object at 0x000001B4696E7990>, model_name='Gemma2-9b-It', model_kwargs={}, groq_api_key=SecretStr('**********'))"
      ]
     },
     "execution_count": 10,
     "metadata": {},
     "output_type": "execute_result"
    }
   ],
   "source": [
    "model"
   ]
  },
  {
   "cell_type": "code",
   "execution_count": 14,
   "id": "02d00197",
   "metadata": {},
   "outputs": [
    {
     "data": {
      "text/plain": [
       "AIMessage(content='Hello! 👋  How can I help you today? 😊\\n', additional_kwargs={}, response_metadata={'token_usage': {'completion_tokens': 15, 'prompt_tokens': 11, 'total_tokens': 26, 'completion_time': 0.027395104, 'prompt_time': 0.002800083, 'queue_time': 0.333302337, 'total_time': 0.030195187}, 'model_name': 'Gemma2-9b-It', 'system_fingerprint': 'fp_10c08bf97d', 'finish_reason': 'stop', 'logprobs': None}, id='run--eb949d61-308c-49ac-be7b-898b10e9df53-0', usage_metadata={'input_tokens': 11, 'output_tokens': 15, 'total_tokens': 26})"
      ]
     },
     "execution_count": 14,
     "metadata": {},
     "output_type": "execute_result"
    }
   ],
   "source": [
    "model.invoke(\"hello model\")"
   ]
  },
  {
   "cell_type": "code",
   "execution_count": 15,
   "id": "24f6298e",
   "metadata": {},
   "outputs": [
    {
     "data": {
      "text/plain": [
       "AIMessage(content='Machine learning is a type of artificial intelligence (AI) that allows computers to learn from data without being explicitly programmed. \\n\\nHere\\'s a breakdown:\\n\\n**Instead of giving a computer specific instructions for every scenario, we feed it large amounts of data and let it discover patterns and relationships on its own.**\\n\\nThink of it like teaching a child to identify a cat. You wouldn\\'t write down a list of all the characteristics of a cat for the child to memorize. Instead, you\\'d show them many pictures of cats and let them learn to recognize the common features.\\n\\n**How it works:**\\n\\n* **Data:** Machine learning algorithms rely on data to learn. This data can be anything: images, text, numbers, audio, etc.\\n* **Algorithm:** This is the set of rules that the computer uses to analyze the data and learn from it. There are many different types of algorithms, each suited to different tasks.\\n* **Training:** The process of feeding the algorithm data and allowing it to learn from it.\\n\\n* **Model:** The output of the training process is a model, which is a representation of the patterns and relationships the algorithm has learned.\\n* **Prediction:** Once trained, the model can be used to make predictions on new, unseen data.\\n\\n**Types of Machine Learning:**\\n\\n* **Supervised Learning:** The algorithm is trained on labeled data (data with known outcomes). For example, training a model to identify cats in images by showing it pictures of cats labeled as \"cat\".\\n* **Unsupervised Learning:** The algorithm is trained on unlabeled data and must discover patterns on its own. For example, grouping customers based on their purchasing behavior.\\n* **Reinforcement Learning:** The algorithm learns by interacting with its environment and receiving rewards or penalties for its actions. For example, training a robot to navigate a maze.\\n\\n**Examples of Machine Learning in action:**\\n\\n* **Recommendation systems:** Netflix, Spotify, Amazon\\n* **Image recognition:** Google Photos, facial recognition\\n* **Spam filtering:** Gmail, Outlook\\n* **Fraud detection:** Banks, credit card companies\\n* **Self-driving cars:** Tesla, Waymo\\n\\nMachine learning is a rapidly evolving field with the potential to revolutionize many aspects of our lives.\\n', additional_kwargs={}, response_metadata={'token_usage': {'completion_tokens': 467, 'prompt_tokens': 14, 'total_tokens': 481, 'completion_time': 0.849090909, 'prompt_time': 0.001924785, 'queue_time': 0.244335635, 'total_time': 0.851015694}, 'model_name': 'Gemma2-9b-It', 'system_fingerprint': 'fp_10c08bf97d', 'finish_reason': 'stop', 'logprobs': None}, id='run--0a9ab7c5-68ab-43b9-8766-7256d2600564-0', usage_metadata={'input_tokens': 14, 'output_tokens': 467, 'total_tokens': 481})"
      ]
     },
     "execution_count": 15,
     "metadata": {},
     "output_type": "execute_result"
    }
   ],
   "source": [
    "model.invoke(\"what is machine learning?\")"
   ]
  },
  {
   "cell_type": "code",
   "execution_count": 16,
   "id": "c822a594",
   "metadata": {},
   "outputs": [
    {
     "data": {
      "text/plain": [
       "AIMessage(content=\"Computer science is a vast and multifaceted field that encompasses the theoretical foundations of information and computation, and their practical applications in designing and developing computer systems and software. \\n\\nHere's a breakdown of key aspects:\\n\\n**Core Concepts:**\\n\\n* **Algorithms:** Step-by-step instructions for solving problems and performing computations.\\n* **Data Structures:** Ways to organize and store data efficiently for retrieval and manipulation.\\n* **Programming Languages:** Formal languages used to communicate instructions to computers.\\n* **Computer Architecture:** The design and organization of computer hardware.\\n* **Operating Systems:** Software that manages computer hardware and provides services for applications.\\n* **Networking:** Connecting computers and enabling communication between them.\\n* **Artificial Intelligence:** Simulating human intelligence in machines.\\n\\n**Areas of Study:**\\n\\n* **Theory of Computation:** Exploring the limits of what can be computed and how efficiently.\\n* **Algorithms and Data Structures:** Designing and analyzing efficient algorithms and data structures.\\n* **Programming Languages and Compilers:** Developing and implementing programming languages and tools for translating code into machine-executable instructions.\\n* **Software Engineering:** Applying engineering principles to the design, development, and maintenance of software systems.\\n* **Computer Graphics and Vision:** Creating and manipulating images and understanding visual information.\\n* **Database Systems:** Managing and querying large collections of data.\\n* **Artificial Intelligence and Machine Learning:** Developing intelligent systems that can learn from data and perform tasks autonomously.\\n* **Cybersecurity:** Protecting computer systems and networks from threats and attacks.\\n\\n**Applications:**\\n\\nComputer science has a profound impact on virtually every aspect of modern life, including:\\n\\n* **Technology:** Smartphones, computers, the internet, and cloud computing.\\n* **Healthcare:** Medical imaging, disease diagnosis, and drug discovery.\\n* **Finance:** Banking, trading, and fraud detection.\\n* **Education:** Online learning, personalized instruction, and educational software.\\n* **Entertainment:** Video games, movies, and music streaming.\\n* **Science and Research:** Data analysis, simulation, and modeling.\\n\\n**In essence, computer science is the study of how to solve problems and automate tasks using computers. It is a dynamic and rapidly evolving field that continues to shape the world around us.**\\n\", additional_kwargs={}, response_metadata={'token_usage': {'completion_tokens': 463, 'prompt_tokens': 14, 'total_tokens': 477, 'completion_time': 0.864448554, 'prompt_time': 0.001928975, 'queue_time': 0.327453154, 'total_time': 0.866377529}, 'model_name': 'Gemma2-9b-It', 'system_fingerprint': 'fp_10c08bf97d', 'finish_reason': 'stop', 'logprobs': None}, id='run--d3775e94-c8e7-464e-9366-374dfae3e139-0', usage_metadata={'input_tokens': 14, 'output_tokens': 463, 'total_tokens': 477})"
      ]
     },
     "execution_count": 16,
     "metadata": {},
     "output_type": "execute_result"
    }
   ],
   "source": [
    "model.invoke(\"what is computer science?\")"
   ]
  },
  {
   "cell_type": "code",
   "execution_count": 17,
   "id": "4a0882ad",
   "metadata": {},
   "outputs": [],
   "source": [
    "from langchain_core.prompts import ChatPromptTemplate"
   ]
  },
  {
   "cell_type": "code",
   "execution_count": 18,
   "id": "3efe5fed",
   "metadata": {},
   "outputs": [],
   "source": [
    "prompt = ChatPromptTemplate(\n",
    "    [\n",
    "        (\"system\",\"You are a Standup Comedian, just give me a joke on the given topic\"),\n",
    "        (\"user\",\"topic: {topic}\")\n",
    "    ]\n",
    ")"
   ]
  },
  {
   "cell_type": "code",
   "execution_count": 19,
   "id": "12652c29",
   "metadata": {},
   "outputs": [
    {
     "data": {
      "text/plain": [
       "ChatPromptValue(messages=[SystemMessage(content='You are a Standup Comedian, just give me a joke on the given topic', additional_kwargs={}, response_metadata={}), HumanMessage(content='topic: content=\\'\"Computer\" is a very broad term! To give you a helpful answer, I need you to be more specific. \\\\n\\\\nWhat would you like to know about computers? For example, are you interested in:\\\\n\\\\n* **The history of computers?**\\\\n* **How computers work?**\\\\n* **Different types of computers?**\\\\n* **Specific computer components?**\\\\n* **How to use a computer?**\\\\n* **The impact of computers on society?**\\\\n\\\\n\\\\nLet me know what you\\\\\\'re curious about, and I\\\\\\'ll do my best to provide you with information! \\\\n\\\\n\\' additional_kwargs={} response_metadata={\\'token_usage\\': {\\'completion_tokens\\': 127, \\'prompt_tokens\\': 11, \\'total_tokens\\': 138, \\'completion_time\\': 0.230909091, \\'prompt_time\\': 0.001898306, \\'queue_time\\': 0.248442904, \\'total_time\\': 0.232807397}, \\'model_name\\': \\'Gemma2-9b-It\\', \\'system_fingerprint\\': \\'fp_10c08bf97d\\', \\'finish_reason\\': \\'stop\\', \\'logprobs\\': None} id=\\'run--dc39f134-a0d7-4120-a0e7-19f4bfdeee90-0\\' usage_metadata={\\'input_tokens\\': 11, \\'output_tokens\\': 127, \\'total_tokens\\': 138}', additional_kwargs={}, response_metadata={})])"
      ]
     },
     "execution_count": 19,
     "metadata": {},
     "output_type": "execute_result"
    }
   ],
   "source": [
    "prompt.invoke(model.invoke(\"computer\"))"
   ]
  },
  {
   "cell_type": "code",
   "execution_count": 20,
   "id": "7d3b3cce",
   "metadata": {},
   "outputs": [],
   "source": [
    "from langchain_core.output_parsers import StrOutputParser"
   ]
  },
  {
   "cell_type": "code",
   "execution_count": 21,
   "id": "34cabb55",
   "metadata": {},
   "outputs": [],
   "source": [
    "output_parser = StrOutputParser()"
   ]
  },
  {
   "cell_type": "code",
   "execution_count": 22,
   "id": "68f7974c",
   "metadata": {},
   "outputs": [],
   "source": [
    "chain = prompt|model|output_parser"
   ]
  },
  {
   "cell_type": "code",
   "execution_count": 23,
   "id": "80d9588b",
   "metadata": {},
   "outputs": [
    {
     "data": {
      "text/plain": [
       "'Why was the machine learning model so bad at poker? \\n\\nBecause it kept overfitting to its opponent\\'s bluffs!  It was like, \"Oh, you\\'re raising? Clearly, you have a royal flush! Time to fold my two pair!\"  🤦\\u200d♂️  \\n\\n'"
      ]
     },
     "execution_count": 23,
     "metadata": {},
     "output_type": "execute_result"
    }
   ],
   "source": [
    "chain.invoke(\"machine learning\")"
   ]
  },
  {
   "cell_type": "code",
   "execution_count": 24,
   "id": "b4f3f676",
   "metadata": {},
   "outputs": [
    {
     "data": {
      "text/plain": [
       "\"Please give me a topic! I'm ready to make you laugh. 😄  \\n\\n\""
      ]
     },
     "execution_count": 24,
     "metadata": {},
     "output_type": "execute_result"
    }
   ],
   "source": [
    "topic = input()\n",
    "chain.invoke({\"topic\":topic})"
   ]
  }
 ],
 "metadata": {
  "kernelspec": {
   "display_name": ".venv",
   "language": "python",
   "name": "python3"
  },
  "language_info": {
   "codemirror_mode": {
    "name": "ipython",
    "version": 3
   },
   "file_extension": ".py",
   "mimetype": "text/x-python",
   "name": "python",
   "nbconvert_exporter": "python",
   "pygments_lexer": "ipython3",
   "version": "3.11.9"
  }
 },
 "nbformat": 4,
 "nbformat_minor": 5
}
